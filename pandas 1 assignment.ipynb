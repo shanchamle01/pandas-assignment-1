{
 "cells": [
  {
   "cell_type": "code",
   "execution_count": 7,
   "id": "d56a69fe-823e-4a74-9a82-8c8937ed5641",
   "metadata": {},
   "outputs": [],
   "source": [
    "#q.1\n",
    "import pandas as pd\n",
    "ser=pd.Series(index=[4,8,15,16,23,42])"
   ]
  },
  {
   "cell_type": "code",
   "execution_count": 8,
   "id": "db9706db-7d33-40b8-838a-30c47df9365e",
   "metadata": {},
   "outputs": [
    {
     "name": "stdout",
     "output_type": "stream",
     "text": [
      "4    NaN\n",
      "8    NaN\n",
      "15   NaN\n",
      "16   NaN\n",
      "23   NaN\n",
      "42   NaN\n",
      "dtype: float64\n"
     ]
    }
   ],
   "source": [
    "print(ser)"
   ]
  },
  {
   "cell_type": "code",
   "execution_count": 9,
   "id": "34d7b143-e973-447b-a588-21d9eab8edb2",
   "metadata": {},
   "outputs": [
    {
     "name": "stdout",
     "output_type": "stream",
     "text": [
      "0    p\n",
      "1    w\n",
      "2    s\n",
      "3    k\n",
      "4    i\n",
      "5    l\n",
      "6    l\n",
      "dtype: object\n"
     ]
    }
   ],
   "source": [
    "#q.2\n",
    "import pandas as pd\n",
    "list=['p','w','s','k','i','l','l']\n",
    "ser=pd.Series(list)\n",
    "print(ser)"
   ]
  },
  {
   "cell_type": "code",
   "execution_count": 12,
   "id": "6395d6bc-b8e4-4941-83b2-62fe6dc3b6cc",
   "metadata": {},
   "outputs": [],
   "source": [
    "#q.3\n",
    "import pandas as pd\n",
    "data={'name':['Alice','Bob','Claire'],'age':[25,30,27],'Gender':['Female','Male','Feamle']}\n",
    "df=pd.DataFrame(data)"
   ]
  },
  {
   "cell_type": "code",
   "execution_count": 13,
   "id": "7a56e0b7-0096-4e92-b469-7207099e8529",
   "metadata": {},
   "outputs": [
    {
     "name": "stdout",
     "output_type": "stream",
     "text": [
      "     name  age  Gender\n",
      "0   Alice   25  Female\n",
      "1     Bob   30    Male\n",
      "2  Claire   27  Feamle\n"
     ]
    }
   ],
   "source": [
    "print(df)"
   ]
  },
  {
   "cell_type": "code",
   "execution_count": 14,
   "id": "f2c6aee0-8368-4524-b3af-c0f396953b99",
   "metadata": {},
   "outputs": [],
   "source": [
    "#q.3\n",
    "#Pandas dataframe is two dimensional size mutable,potentially heteregeous,tabular data structurewith rows and columns\n",
    "#Dataframe is collection of series that can be used to analyze the data.\n",
    "#whereas Series is type of list in pandas that can be take integer values,string values,double values.\n",
    "#it can contain only single list with an index.\n",
    "#and Dataframe can be made of more than single list with an index."
   ]
  },
  {
   "cell_type": "code",
   "execution_count": 17,
   "id": "ed18185b-b781-4bb9-afd1-330133b32ce2",
   "metadata": {},
   "outputs": [],
   "source": [
    "#ex. creating dataframe from series\n",
    "import pandas as pd \n",
    "employee=['ram','shyam','krishna']\n",
    "emp_series=pd.Series(employee)\n"
   ]
  },
  {
   "cell_type": "code",
   "execution_count": 18,
   "id": "1f45ca91-c09e-4d6a-9ae0-56bcb4cf6a7a",
   "metadata": {},
   "outputs": [
    {
     "name": "stdout",
     "output_type": "stream",
     "text": [
      "0        ram\n",
      "1      shyam\n",
      "2    krishna\n",
      "dtype: object\n"
     ]
    }
   ],
   "source": [
    "print(emp_series)"
   ]
  },
  {
   "cell_type": "code",
   "execution_count": 20,
   "id": "4a1a9769-17f4-4633-9e38-3dfa9cc3733e",
   "metadata": {},
   "outputs": [],
   "source": [
    "#q.5\n",
    "#pandas function\n",
    "#pd.read_csv\n",
    "#pd.read_Excel\n",
    "#df.head\n",
    "#df.columns\n",
    "#df.dtypes\n",
    "#.len\n",
    "#df.drop"
   ]
  },
  {
   "cell_type": "code",
   "execution_count": 21,
   "id": "243a4176-0e89-4741-80f2-0a5fcfff416c",
   "metadata": {},
   "outputs": [],
   "source": [
    "#q.6\n",
    "#series:it is 1-D ARRAY with size immutable\n",
    "#dataframe:it is 2-D array with size mutable\n",
    "#panel:it is 3-D array with size mutable"
   ]
  },
  {
   "cell_type": "code",
   "execution_count": 22,
   "id": "21e6e12c-7cb1-4ce9-a620-73b5966c1143",
   "metadata": {},
   "outputs": [],
   "source": [
    "import pandas as pd\n",
    "employee=['rohit','roshan','tom','George']   #creating lists\n",
    "company=['Atlas','Oracle','cis','storm']\n",
    "Age=[24,33,24,28]\n",
    "employee_ser=pd.Series(employee)  #creating a three series by passing lists\n",
    "company_ser=pd.Series(company)\n",
    "Age_ser=pd.Series(Age)\n",
    "data={'employee':employee_ser,'company':company_ser,'Age':Age_ser} #creating dictionary by passing object values of series\n",
    "output=pd.DataFrame(data)"
   ]
  },
  {
   "cell_type": "code",
   "execution_count": 23,
   "id": "f3c87ee9-0640-457d-97ef-2fcd5fe31f6c",
   "metadata": {},
   "outputs": [
    {
     "name": "stdout",
     "output_type": "stream",
     "text": [
      "  employee company  Age\n",
      "0    rohit   Atlas   24\n",
      "1   roshan  Oracle   33\n",
      "2      tom     cis   24\n",
      "3   George   storm   28\n"
     ]
    }
   ],
   "source": [
    "print(output)"
   ]
  },
  {
   "cell_type": "code",
   "execution_count": null,
   "id": "b1839aae-8b08-4b35-a411-40f1358507d2",
   "metadata": {},
   "outputs": [],
   "source": []
  }
 ],
 "metadata": {
  "kernelspec": {
   "display_name": "Python 3 (ipykernel)",
   "language": "python",
   "name": "python3"
  },
  "language_info": {
   "codemirror_mode": {
    "name": "ipython",
    "version": 3
   },
   "file_extension": ".py",
   "mimetype": "text/x-python",
   "name": "python",
   "nbconvert_exporter": "python",
   "pygments_lexer": "ipython3",
   "version": "3.11.4"
  }
 },
 "nbformat": 4,
 "nbformat_minor": 5
}
